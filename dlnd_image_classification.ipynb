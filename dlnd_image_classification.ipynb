{
 "cells": [
  {
   "cell_type": "markdown",
   "metadata": {
    "collapsed": true
   },
   "source": [
    "# Image Classification\n",
    "In this project, you'll classify images from the [CIFAR-10 dataset](https://www.cs.toronto.edu/~kriz/cifar.html).  The dataset consists of airplanes, dogs, cats, and other objects. You'll preprocess the images, then train a convolutional neural network on all the samples. The images need to be normalized and the labels need to be one-hot encoded.  You'll get to apply what you learned and build a convolutional, max pooling, dropout, and fully connected layers.  At the end, you'll get to see your neural network's predictions on the sample images.\n",
    "## Get the Data\n",
    "Run the following cell to download the [CIFAR-10 dataset for python](https://www.cs.toronto.edu/~kriz/cifar-10-python.tar.gz)."
   ]
  },
  {
   "cell_type": "code",
   "execution_count": 2,
   "metadata": {},
   "outputs": [
    {
     "name": "stdout",
     "output_type": "stream",
     "text": [
      "All files found!\n"
     ]
    }
   ],
   "source": [
    "\"\"\"\n",
    "DON'T MODIFY ANYTHING IN THIS CELL THAT IS BELOW THIS LINE\n",
    "\"\"\"\n",
    "from urllib.request import urlretrieve\n",
    "from os.path import isfile, isdir\n",
    "from tqdm import tqdm\n",
    "import problem_unittests as tests\n",
    "import tarfile\n",
    "\n",
    "cifar10_dataset_folder_path = 'cifar-10-batches-py'\n",
    "\n",
    "# Use Floyd's cifar-10 dataset if present\n",
    "floyd_cifar10_location = '/cifar/cifar-10-python.tar.gz'\n",
    "if isfile(floyd_cifar10_location):\n",
    "    tar_gz_path = floyd_cifar10_location\n",
    "else:\n",
    "    tar_gz_path = 'cifar-10-python.tar.gz'\n",
    "\n",
    "class DLProgress(tqdm):\n",
    "    last_block = 0\n",
    "\n",
    "    def hook(self, block_num=1, block_size=1, total_size=None):\n",
    "        self.total = total_size\n",
    "        self.update((block_num - self.last_block) * block_size)\n",
    "        self.last_block = block_num\n",
    "\n",
    "if not isfile(tar_gz_path):\n",
    "    with DLProgress(unit='B', unit_scale=True, miniters=1, desc='CIFAR-10 Dataset') as pbar:\n",
    "        urlretrieve(\n",
    "            'https://www.cs.toronto.edu/~kriz/cifar-10-python.tar.gz',\n",
    "            tar_gz_path,\n",
    "            pbar.hook)\n",
    "\n",
    "if not isdir(cifar10_dataset_folder_path):\n",
    "    with tarfile.open(tar_gz_path) as tar:\n",
    "        tar.extractall()\n",
    "        tar.close()\n",
    "\n",
    "\n",
    "tests.test_folder_path(cifar10_dataset_folder_path)"
   ]
  },
  {
   "cell_type": "markdown",
   "metadata": {},
   "source": [
    "## Explore the Data\n",
    "The dataset is broken into batches to prevent your machine from running out of memory.  The CIFAR-10 dataset consists of 5 batches, named `data_batch_1`, `data_batch_2`, etc.. Each batch contains the labels and images that are one of the following:\n",
    "* airplane\n",
    "* automobile\n",
    "* bird\n",
    "* cat\n",
    "* deer\n",
    "* dog\n",
    "* frog\n",
    "* horse\n",
    "* ship\n",
    "* truck\n",
    "\n",
    "Understanding a dataset is part of making predictions on the data.  Play around with the code cell below by changing the `batch_id` and `sample_id`. The `batch_id` is the id for a batch (1-5). The `sample_id` is the id for a image and label pair in the batch.\n",
    "\n",
    "Ask yourself \"What are all possible labels?\", \"What is the range of values for the image data?\", \"Are the labels in order or random?\".  Answers to questions like these will help you preprocess the data and end up with better predictions."
   ]
  },
  {
   "cell_type": "code",
   "execution_count": 3,
   "metadata": {},
   "outputs": [
    {
     "name": "stdout",
     "output_type": "stream",
     "text": [
      "\n",
      "Stats of batch 1:\n",
      "Samples: 10000\n",
      "Label Counts: {0: 1005, 1: 974, 2: 1032, 3: 1016, 4: 999, 5: 937, 6: 1030, 7: 1001, 8: 1025, 9: 981}\n",
      "First 20 Labels: [6, 9, 9, 4, 1, 1, 2, 7, 8, 3, 4, 7, 7, 2, 9, 9, 9, 3, 2, 6]\n",
      "\n",
      "Example of Image 5:\n",
      "Image - Min Value: 0 Max Value: 252\n",
      "Image - Shape: (32, 32, 3)\n",
      "Label - Label Id: 1 Name: automobile\n"
     ]
    },
    {
     "data": {
      "image/png": "[encoded data removed]",
      "text/plain": [
       "<matplotlib.figure.Figure at 0x7f8789c8be10>"
      ]
     },
     "metadata": {
      "image/png": {
       "height": 250,
       "width": 253
      }
     },
     "output_type": "display_data"
    }
   ],
   "source": [
    "%matplotlib inline\n",
    "%config InlineBackend.figure_format = 'retina'\n",
    "\n",
    "import helper\n",
    "import numpy as np\n",
    "\n",
    "# Explore the dataset\n",
    "batch_id = 1\n",
    "sample_id = 5\n",
    "helper.display_stats(cifar10_dataset_folder_path, batch_id, sample_id)"
   ]
  },
  {
   "cell_type": "markdown",
   "metadata": {},
   "source": [
    "## Implement Preprocess Functions\n",
    "### Normalize\n",
    "In the cell below, implement the `normalize` function to take in image data, `x`, and return it as a normalized Numpy array. The values should be in the range of 0 to 1, inclusive.  The return object should be the same shape as `x`."
   ]
  },
  {
   "cell_type": "code",
   "execution_count": 4,
   "metadata": {},
   "outputs": [
    {
     "name": "stdout",
     "output_type": "stream",
     "text": [
      "Tests Passed\n"
     ]
    }
   ],
   "source": [
    "def normalize(x):\n",
    "    \"\"\"\n",
    "    Normalize a list of sample image data in the range of 0 to 1\n",
    "    : x: List of image data.  The image shape is (32, 32, 3)\n",
    "    : return: Numpy array of normalize data\n",
    "    \"\"\"\n",
    "    # TODO: Implement Function\n",
    "    return x/255 #I want every value in the matricies\n",
    "                 #to be divided by 255 because each value is between\n",
    "                 #0 and 255. \n",
    "\n",
    "\"\"\"\n",
    "DON'T MODIFY ANYTHING IN THIS CELL THAT IS BELOW THIS LINE\n",
    "\"\"\"\n",
    "tests.test_normalize(normalize)"
   ]
  },
  {
   "cell_type": "markdown",
   "metadata": {},
   "source": [
    "### One-hot encode\n",
    "Just like the previous code cell, you'll be implementing a function for preprocessing.  This time, you'll implement the `one_hot_encode` function. The input, `x`, are a list of labels.  Implement the function to return the list of labels as One-Hot encoded Numpy array.  The possible values for labels are 0 to 9. The one-hot encoding function should return the same encoding for each value between each call to `one_hot_encode`.  Make sure to save the map of encodings outside the function.\n",
    "\n",
    "Hint: Don't reinvent the wheel."
   ]
  },
  {
   "cell_type": "code",
   "execution_count": 5,
   "metadata": {},
   "outputs": [
    {
     "name": "stdout",
     "output_type": "stream",
     "text": [
      "Tests Passed\n"
     ]
    }
   ],
   "source": [
    "def one_hot_encode(x):\n",
    "    \"\"\"\n",
    "    One hot encode a list of sample labels. Return a one-hot encoded vector for each label.\n",
    "    : x: List of sample Labels\n",
    "    : return: Numpy array of one-hot encoded labels\n",
    "    \"\"\"\n",
    "    \"\"\"\n",
    "    One hot encoding is a process by which categorical variables are\n",
    "    converted into a form that could be provided to ML algorithms to\n",
    "    do a better job in prediction. Simply, it is when you put data into\n",
    "    a binary form that makes it easier to mess around with.\n",
    "    \"\"\"\n",
    "    # TODO: Implement Function\n",
    "    one_hot_array = np.zeros((len(x), 10))\n",
    "    one_hot_array[np.arange(len(x)), x] = 1\n",
    "    return one_hot_array\n",
    "\n",
    "    \"\"\"\n",
    "    numpy.arange([start, ]stop, [step, ]dtype=None)\n",
    "    Return evenly spaced values within a given interval.\n",
    "\n",
    "    Values are generated within the half-open interval \n",
    "    [start, stop) (in other words, the interval including\n",
    "    start but excluding stop). For integer arguments the function\n",
    "    is equivalent to the Python built-in range function, but\n",
    "    returns an ndarray rather than a list.\n",
    "    \"\"\"\n",
    "\n",
    "\n",
    "\n",
    "\"\"\"\n",
    "DON'T MODIFY ANYTHING IN THIS CELL THAT IS BELOW THIS LINE\n",
    "\"\"\"\n",
    "tests.test_one_hot_encode(one_hot_encode)"
   ]
  },
  {
   "cell_type": "markdown",
   "metadata": {},
   "source": [
    "### Randomize Data\n",
    "As you saw from exploring the data above, the order of the samples are randomized.  It doesn't hurt to randomize it again, but you don't need to for this dataset."
   ]
  },
  {
   "cell_type": "markdown",
   "metadata": {},
   "source": [
    "## Preprocess all the data and save it\n",
    "Running the code cell below will preprocess all the CIFAR-10 data and save it to file. The code below also uses 10% of the training data for validation."
   ]
  },
  {
   "cell_type": "code",
   "execution_count": 6,
   "metadata": {},
   "outputs": [],
   "source": [
    "\"\"\"\n",
    "DON'T MODIFY ANYTHING IN THIS CELL\n",
    "\"\"\"\n",
    "# Preprocess Training, Validation, and Testing Data\n",
    "helper.preprocess_and_save_data(cifar10_dataset_folder_path, normalize, one_hot_encode)"
   ]
  },
  {
   "cell_type": "markdown",
   "metadata": {},
   "source": [
    "# Check Point\n",
    "This is your first checkpoint.  If you ever decide to come back to this notebook or have to restart the notebook, you can start from here.  The preprocessed data has been saved to disk."
   ]
  },
  {
   "cell_type": "code",
   "execution_count": 7,
   "metadata": {},
   "outputs": [],
   "source": [
    "\"\"\"\n",
    "DON'T MODIFY ANYTHING IN THIS CELL\n",
    "\"\"\"\n",
    "import pickle\n",
    "import problem_unittests as tests\n",
    "import helper\n",
    "\n",
    "# Load the Preprocessed Validation data\n",
    "valid_features, valid_labels = pickle.load(open('preprocess_validation.p', mode='rb'))"
   ]
  },
  {
   "cell_type": "markdown",
   "metadata": {},
   "source": [
    "## Build the network\n",
    "For the neural network, you'll build each layer into a function.  Most of the code you've seen has been outside of functions. To test your code more thoroughly, we require that you put each layer in a function.  This allows us to give you better feedback and test for simple mistakes using our unittests before you submit your project.\n",
    "\n",
    ">**Note:** If you're finding it hard to dedicate enough time for this course each week, we've provided a small shortcut to this part of the project. In the next couple of problems, you'll have the option to use classes from the [TensorFlow Layers](https://www.tensorflow.org/api_docs/python/tf/layers) or [TensorFlow Layers (contrib)](https://www.tensorflow.org/api_guides/python/contrib.layers) packages to build each layer, except the layers you build in the \"Convolutional and Max Pooling Layer\" section.  TF Layers is similar to Keras's and TFLearn's abstraction to layers, so it's easy to pickup.\n",
    "\n",
    ">However, if you would like to get the most out of this course, try to solve all the problems _without_ using anything from the TF Layers packages. You **can** still use classes from other packages that happen to have the same name as ones you find in TF Layers! For example, instead of using the TF Layers version of the `conv2d` class, [tf.layers.conv2d](https://www.tensorflow.org/api_docs/python/tf/layers/conv2d), you would want to use the TF Neural Network version of `conv2d`, [tf.nn.conv2d](https://www.tensorflow.org/api_docs/python/tf/nn/conv2d). \n",
    "\n",
    "Let's begin!\n",
    "\n",
    "### Input\n",
    "The neural network needs to read the image data, one-hot encoded labels, and dropout keep probability. Implement the following functions\n",
    "* Implement `neural_net_image_input`\n",
    " * Return a [TF Placeholder](https://www.tensorflow.org/api_docs/python/tf/placeholder)\n",
    " * Set the shape using `image_shape` with batch size set to `None`.\n",
    " * Name the TensorFlow placeholder \"x\" using the TensorFlow `name` parameter in the [TF Placeholder](https://www.tensorflow.org/api_docs/python/tf/placeholder).\n",
    "* Implement `neural_net_label_input`\n",
    " * Return a [TF Placeholder](https://www.tensorflow.org/api_docs/python/tf/placeholder)\n",
    " * Set the shape using `n_classes` with batch size set to `None`.\n",
    " * Name the TensorFlow placeholder \"y\" using the TensorFlow `name` parameter in the [TF Placeholder](https://www.tensorflow.org/api_docs/python/tf/placeholder).\n",
    "* Implement `neural_net_keep_prob_input`\n",
    " * Return a [TF Placeholder](https://www.tensorflow.org/api_docs/python/tf/placeholder) for dropout keep probability.\n",
    " * Name the TensorFlow placeholder \"keep_prob\" using the TensorFlow `name` parameter in the [TF Placeholder](https://www.tensorflow.org/api_docs/python/tf/placeholder).\n",
    "\n",
    "These names will be used at the end of the project to load your saved model.\n",
    "\n",
    "Note: `None` for shapes in TensorFlow allow for a dynamic size."
   ]
  },
  {
   "cell_type": "code",
   "execution_count": 8,
   "metadata": {},
   "outputs": [
    {
     "name": "stdout",
     "output_type": "stream",
     "text": [
      "Image Input Tests Passed.\n",
      "Label Input Tests Passed.\n",
      "Keep Prob Tests Passed.\n"
     ]
    }
   ],
   "source": [
    "import tensorflow as tf\n",
    "\n",
    "def neural_net_image_input(image_shape):\n",
    "    \"\"\"\n",
    "    Return a Tensor for a batch of image input\n",
    "    : image_shape: Shape of the images\n",
    "    : return: Tensor for image input.\n",
    "    \"\"\"\n",
    "    # TODO: Implement Function\n",
    "    return tf.placeholder(tf.float32, shape=(None, image_shape[0], image_shape[1], image_shape[2]), name='x')\n",
    "\n",
    "\n",
    "def neural_net_label_input(n_classes):\n",
    "    \"\"\"\n",
    "    Return a Tensor for a batch of label input\n",
    "    : n_classes: Number of classes\n",
    "    : return: Tensor for label input.\n",
    "    \"\"\"\n",
    "    # TODO: Implement Function\n",
    "    return tf.placeholder(tf.float32, shape=(None, n_classes), name='y')\n",
    "\n",
    "\n",
    "def neural_net_keep_prob_input():\n",
    "    \"\"\"\n",
    "    Return a Tensor for keep probability\n",
    "    : return: Tensor for keep probability.\n",
    "    \"\"\"\n",
    "    # TODO: Implement Function\n",
    "    return tf.placeholder(tf.float32, name='keep_prob')\n",
    "\n",
    "\n",
    "\"\"\"\n",
    "DON'T MODIFY ANYTHING IN THIS CELL THAT IS BELOW THIS LINE\n",
    "\"\"\"\n",
    "tf.reset_default_graph()\n",
    "tests.test_nn_image_inputs(neural_net_image_input)\n",
    "tests.test_nn_label_inputs(neural_net_label_input)\n",
    "tests.test_nn_keep_prob_inputs(neural_net_keep_prob_input)"
   ]
  },
  {
   "cell_type": "markdown",
   "metadata": {},
   "source": [
    "### Convolution and Max Pooling Layer\n",
    "Convolution layers have a lot of success with images. For this code cell, you should implement the function `conv2d_maxpool` to apply convolution then max pooling:\n",
    "* Create the weight and bias using `conv_ksize`, `conv_num_outputs` and the shape of `x_tensor`.\n",
    "* Apply a convolution to `x_tensor` using weight and `conv_strides`.\n",
    " * We recommend you use same padding, but you're welcome to use any padding.\n",
    "* Add bias\n",
    "* Add a nonlinear activation to the convolution.\n",
    "* Apply Max Pooling using `pool_ksize` and `pool_strides`.\n",
    " * We recommend you use same padding, but you're welcome to use any padding.\n",
    "\n",
    "**Note:** You **can't** use [TensorFlow Layers](https://www.tensorflow.org/api_docs/python/tf/layers) or [TensorFlow Layers (contrib)](https://www.tensorflow.org/api_guides/python/contrib.layers) for **this** layer, but you can still use TensorFlow's [Neural Network](https://www.tensorflow.org/api_docs/python/tf/nn) package. You may still use the shortcut option for all the **other** layers."
   ]
  },
  {
   "cell_type": "code",
   "execution_count": 9,
   "metadata": {},
   "outputs": [
    {
     "name": "stdout",
     "output_type": "stream",
     "text": [
      "Tests Passed\n"
     ]
    }
   ],
   "source": [
    "def conv2d_maxpool(x_tensor, conv_num_outputs, conv_ksize, conv_strides, pool_ksize, pool_strides):\n",
    "    \"\"\"\n",
    "    Apply convolution then max pooling to x_tensor\n",
    "    :param x_tensor: TensorFlow Tensor\n",
    "    :param conv_num_outputs: Number of outputs for the convolutional layer\n",
    "    :param conv_ksize: kernal size 2-D Tuple for the convolutional layer\n",
    "    :param conv_strides: Stride 2-D Tuple for convolution\n",
    "    :param pool_ksize: kernal size 2-D Tuple for pool\n",
    "    :param pool_strides: Stride 2-D Tuple for pool\n",
    "    : return: A tensor that represents convolution and max pooling of x_tensor\n",
    "    \"\"\"\n",
    "    # TODO: Implement Function  \n",
    "\n",
    "    ####Create the weights and bias####\n",
    "    \n",
    "    #weight = tf.Variable(tf.random_normal(weight_shape, stddev=0.1))\n",
    "    #bias = tf.Variable(tf.zeros(conv_num_outputs), dtype=??) I'm going to keep float32\n",
    "    #conv_strides = [1, conv_strides[0],''[1], 1] #the convolution strides\n",
    "    \n",
    "    RGB_values = x_tensor.get_shape().as_list()[-1]\n",
    "    weights = tf.Variable(tf.random_normal([conv_ksize[0], conv_ksize[1], RGB_values, conv_num_outputs], mean=0.0, stddev=0.1))\n",
    "    bias = tf.Variable(tf.zeros(conv_num_outputs, dtype=tf.float32))\n",
    "    \n",
    "    ####Convolution####\n",
    "    \n",
    "    #tf.nn.conv2d(x_tensor, weight, strides=conv_strides, padding='SAME')\n",
    "    conv_layer = tf.nn.conv2d(x_tensor, weights, strides=[1, conv_strides[0], conv_strides[1], 1], padding='SAME')\n",
    "    \n",
    "    ####Adding bias####\n",
    "    \n",
    "    conv_layer = tf.nn.bias_add(conv_layer, bias)\n",
    "    \n",
    "    ####Add nonlinear activation####\n",
    "    \n",
    "    conv_layer = tf.nn.relu(conv_layer)\n",
    "                          \n",
    "    ####Apply Max Pooling####\n",
    "    #pool_ksize = [1, pool_ksize[0], ''[1], 1] #'' signifies repeat of previous\n",
    "    #pool_strides = same as above, but with \"pool_strides\" in place of \"pool_ksize\"\n",
    "    conv_layer = tf.nn.max_pool(conv_layer, ksize=[1, pool_ksize[0], pool_ksize[1], 1], strides=[1, pool_strides[0], pool_strides[1], 1], padding='SAME')\n",
    "    \n",
    "    return conv_layer \n",
    "\n",
    "\n",
    "\"\"\"\n",
    "DON'T MODIFY ANYTHING IN THIS CELL THAT IS BELOW THIS LINE\n",
    "\"\"\"\n",
    "tests.test_con_pool(conv2d_maxpool)"
   ]
  },
  {
   "cell_type": "markdown",
   "metadata": {},
   "source": [
    "### Flatten Layer\n",
    "Implement the `flatten` function to change the dimension of `x_tensor` from a 4-D tensor to a 2-D tensor.  The output should be the shape (*Batch Size*, *Flattened Image Size*). Shortcut option: you can use classes from the [TensorFlow Layers](https://www.tensorflow.org/api_docs/python/tf/layers) or [TensorFlow Layers (contrib)](https://www.tensorflow.org/api_guides/python/contrib.layers) packages for this layer. For more of a challenge, only use other TensorFlow packages."
   ]
  },
  {
   "cell_type": "code",
   "execution_count": 10,
   "metadata": {},
   "outputs": [
    {
     "name": "stdout",
     "output_type": "stream",
     "text": [
      "Tests Passed\n"
     ]
    }
   ],
   "source": [
    "def flatten(x_tensor):\n",
    "    \"\"\"\n",
    "    Flatten x_tensor to (Batch Size, Flattened Image Size)\n",
    "    : x_tensor: A tensor of size (Batch Size, ...), where ... are the image dimensions.\n",
    "    : return: A tensor of size (Batch Size, Flattened Image Size).\n",
    "    \"\"\"\n",
    "    # TODO: Implement Function\n",
    "    \"\"\"\n",
    "    flatten(\n",
    "    inputs,\n",
    "    outputs_collections=None,\n",
    "    scope=None\n",
    "    )\n",
    "    \"\"\"\n",
    "    return tf.contrib.layers.flatten(x_tensor) #just flattening x_tensor\n",
    "\n",
    "\n",
    "\"\"\"\n",
    "DON'T MODIFY ANYTHING IN THIS CELL THAT IS BELOW THIS LINE\n",
    "\"\"\"\n",
    "tests.test_flatten(flatten)"
   ]
  },
  {
   "cell_type": "markdown",
   "metadata": {},
   "source": [
    "### Fully-Connected Layer\n",
    "Implement the `fully_conn` function to apply a fully connected layer to `x_tensor` with the shape (*Batch Size*, *num_outputs*). Shortcut option: you can use classes from the [TensorFlow Layers](https://www.tensorflow.org/api_docs/python/tf/layers) or [TensorFlow Layers (contrib)](https://www.tensorflow.org/api_guides/python/contrib.layers) packages for this layer. For more of a challenge, only use other TensorFlow packages."
   ]
  },
  {
   "cell_type": "code",
   "execution_count": 11,
   "metadata": {},
   "outputs": [
    {
     "name": "stdout",
     "output_type": "stream",
     "text": [
      "Tests Passed\n"
     ]
    }
   ],
   "source": [
    "def fully_conn(x_tensor, num_outputs):\n",
    "    \"\"\"\n",
    "    Apply a fully connected layer to x_tensor using weight and bias\n",
    "    : x_tensor: A 2-D tensor where the first dimension is batch size.\n",
    "    : num_outputs: The number of output that the new tensor should be.\n",
    "    : return: A 2-D tensor where the second dimension is num_outputs.\n",
    "    \"\"\"\n",
    "    # TODO: Implement Function\n",
    "    \n",
    "    #Weights and bias\n",
    "    #Number of elements == the value of x_tensor.shape[1]\n",
    "    elements = x_tensor.shape[1].value\n",
    "    weights = tf.Variable(tf.random_normal([elements, num_outputs], mean=0.0, stddev=0.1))\n",
    "    bias = tf.Variable(tf.zeros([num_outputs], dtype=tf.float32))\n",
    "\n",
    "    #Add bias to Matmul\n",
    "    full_layer = tf.add(tf.matmul(x_tensor, weights), bias)\n",
    "\n",
    "    #RELU\n",
    "    full_layer = tf.nn.relu(full_layer)\n",
    "   \n",
    "    return full_layer\n",
    "\n",
    "\"\"\"\n",
    "DON'T MODIFY ANYTHING IN THIS CELL THAT IS BELOW THIS LINE\n",
    "\"\"\"\n",
    "tests.test_fully_conn(fully_conn)"
   ]
  },
  {
   "cell_type": "markdown",
   "metadata": {},
   "source": [
    "### Output Layer\n",
    "Implement the `output` function to apply a fully connected layer to `x_tensor` with the shape (*Batch Size*, *num_outputs*). Shortcut option: you can use classes from the [TensorFlow Layers](https://www.tensorflow.org/api_docs/python/tf/layers) or [TensorFlow Layers (contrib)](https://www.tensorflow.org/api_guides/python/contrib.layers) packages for this layer. For more of a challenge, only use other TensorFlow packages.\n",
    "\n",
    "**Note:** Activation, softmax, or cross entropy should **not** be applied to this."
   ]
  },
  {
   "cell_type": "code",
   "execution_count": 12,
   "metadata": {},
   "outputs": [
    {
     "name": "stdout",
     "output_type": "stream",
     "text": [
      "Tests Passed\n"
     ]
    }
   ],
   "source": [
    "def output(x_tensor, num_outputs):\n",
    "    \"\"\"\n",
    "    Apply a output layer to x_tensor using weight and bias\n",
    "    : x_tensor: A 2-D tensor where the first dimension is batch size.\n",
    "    : num_outputs: The number of output that the new tensor should be.\n",
    "    : return: A 2-D tensor where the second dimension is num_outputs.\n",
    "    \"\"\"\n",
    "    # TODO: Implement Function\n",
    "    \n",
    "    #Weights and bias\n",
    "    #Number of elements == the value of x_tensor.shape[1]\n",
    "    elements = x_tensor.shape[1].value\n",
    "    weights = tf.Variable(tf.random_normal([elements, num_outputs], mean=0.0, stddev=0.1))\n",
    "    bias = tf.Variable(tf.zeros([num_outputs], dtype=tf.float32))\n",
    "\n",
    "    #Add bias to Matmul\n",
    "    out_layer = tf.add(tf.matmul(x_tensor, weights), bias)\n",
    "\n",
    "   \n",
    "    return out_layer\n",
    "\n",
    "\n",
    "\"\"\"\n",
    "DON'T MODIFY ANYTHING IN THIS CELL THAT IS BELOW THIS LINE\n",
    "\"\"\"\n",
    "tests.test_output(output)"
   ]
  },
  {
   "cell_type": "markdown",
   "metadata": {},
   "source": [
    "### Create Convolutional Model\n",
    "Implement the function `conv_net` to create a convolutional neural network model. The function takes in a batch of images, `x`, and outputs logits.  Use the layers you created above to create this model:\n",
    "\n",
    "* Apply 1, 2, or 3 Convolution and Max Pool layers\n",
    "* Apply a Flatten Layer\n",
    "* Apply 1, 2, or 3 Fully Connected Layers\n",
    "* Apply an Output Layer\n",
    "* Return the output\n",
    "* Apply [TensorFlow's Dropout](https://www.tensorflow.org/api_docs/python/tf/nn/dropout) to one or more layers in the model using `keep_prob`. "
   ]
  },
  {
   "cell_type": "code",
   "execution_count": 13,
   "metadata": {},
   "outputs": [
    {
     "name": "stdout",
     "output_type": "stream",
     "text": [
      "Neural Network Built!\n"
     ]
    }
   ],
   "source": [
    "def conv_net(x, keep_prob):\n",
    "    \"\"\"\n",
    "    Create a convolutional neural network model\n",
    "    : x: Placeholder tensor that holds image data.\n",
    "    : keep_prob: Placeholder tensor that hold dropout keep probability.\n",
    "    : return: Tensor that represents logits\n",
    "    \"\"\"\n",
    "    # TODO: Apply 1, 2, or 3 Convolution and Max Pool layers\n",
    "    #    Play around with different number of outputs, kernel size and stride\n",
    "    # Function Definition from Above:\n",
    "    #    conv2d_maxpool(x_tensor, conv_num_outputs, conv_ksize, conv_strides, pool_ksize, pool_strides)\n",
    "    \n",
    "    #Here I'm applying 3 maxpool layers\n",
    "    #x_tensor = x\n",
    "    #conv_num_outputs = 8,16,32 or maybe 16,32,64\n",
    "    #conv_ksize = will go from 8x8 to 4x4 then to 2x2\n",
    "    #conv_strides = 1x1\n",
    "    #pool_ksize = 2x2\n",
    "    #pool_strides = 2x2\n",
    "    \n",
    "    #1st layer\n",
    "    x = conv2d_maxpool(x, 8, (8, 8), (1, 1), (2, 2), (2, 2))\n",
    "    #2nd layer\n",
    "    x = conv2d_maxpool(x, 16, (4, 4), (1, 1), (2, 2), (2, 2))\n",
    "    #3rd layer\n",
    "    x = conv2d_maxpool(x, 32, (2, 2), (1, 1), (2, 2), (2, 2))\n",
    "    \n",
    "\n",
    "    # TODO: Apply a Flatten Layer\n",
    "    # Function Definition from Above:\n",
    "    #   flatten(x_tensor)\n",
    "    \n",
    "    x = flatten(x)\n",
    "\n",
    "    # TODO: Apply 1, 2, or 3 Fully Connected Layers\n",
    "    #    Play around with different number of outputs\n",
    "    # Function Definition from Above:\n",
    "    #   fully_conn(x_tensor, num_outputs)\n",
    "    \n",
    "    \"\"\"\n",
    "    dropout(\n",
    "    x,\n",
    "    keep_prob,\n",
    "    noise_shape=None,\n",
    "    seed=None,\n",
    "    name=None\n",
    "            )\n",
    "    \"\"\"\n",
    "    x = fully_conn(x, 1024)\n",
    "    x = tf.nn.dropout(x, keep_prob)\n",
    "    x = fully_conn(x, 512)\n",
    "    x = tf.nn.dropout(x, keep_prob)\n",
    "    #x = fully_conn(x, 256)\n",
    "    #x = tf.nn.dropout(x, keep_prob)\n",
    "    #Better results after removing 256\n",
    "    \n",
    "    \n",
    "    \n",
    "    # TODO: Apply an Output Layer\n",
    "    #    Set this to the number of classes\n",
    "    # Function Definition from Above:\n",
    "    #   output(x_tensor, num_outputs)\n",
    "   \n",
    "    x = output(x, 10)\n",
    "    \n",
    "    \n",
    "    # TODO: return output\n",
    "    return x\n",
    "\n",
    "\n",
    "\"\"\"\n",
    "DON'T MODIFY ANYTHING IN THIS CELL THAT IS BELOW THIS LINE\n",
    "\"\"\"\n",
    "\n",
    "##############################\n",
    "## Build the Neural Network ##\n",
    "##############################\n",
    "\n",
    "# Remove previous weights, bias, inputs, etc..\n",
    "tf.reset_default_graph()\n",
    "\n",
    "# Inputs\n",
    "x = neural_net_image_input((32, 32, 3))\n",
    "y = neural_net_label_input(10)\n",
    "keep_prob = neural_net_keep_prob_input()\n",
    "\n",
    "# Model\n",
    "logits = conv_net(x, keep_prob)\n",
    "\n",
    "# Name logits Tensor, so that is can be loaded from disk after training\n",
    "logits = tf.identity(logits, name='logits')\n",
    "\n",
    "# Loss and Optimizer\n",
    "cost = tf.reduce_mean(tf.nn.softmax_cross_entropy_with_logits(logits=logits, labels=y))\n",
    "optimizer = tf.train.AdamOptimizer().minimize(cost)\n",
    "\n",
    "# Accuracy\n",
    "correct_pred = tf.equal(tf.argmax(logits, 1), tf.argmax(y, 1))\n",
    "accuracy = tf.reduce_mean(tf.cast(correct_pred, tf.float32), name='accuracy')\n",
    "\n",
    "tests.test_conv_net(conv_net)"
   ]
  },
  {
   "cell_type": "markdown",
   "metadata": {},
   "source": [
    "## Train the Neural Network\n",
    "### Single Optimization\n",
    "Implement the function `train_neural_network` to do a single optimization.  The optimization should use `optimizer` to optimize in `session` with a `feed_dict` of the following:\n",
    "* `x` for image input\n",
    "* `y` for labels\n",
    "* `keep_prob` for keep probability for dropout\n",
    "\n",
    "This function will be called for each batch, so `tf.global_variables_initializer()` has already been called.\n",
    "\n",
    "Note: Nothing needs to be returned. This function is only optimizing the neural network."
   ]
  },
  {
   "cell_type": "code",
   "execution_count": 14,
   "metadata": {},
   "outputs": [
    {
     "name": "stdout",
     "output_type": "stream",
     "text": [
      "Tests Passed\n"
     ]
    }
   ],
   "source": [
    "def train_neural_network(session, optimizer, keep_probability, feature_batch, label_batch):\n",
    "    \"\"\"\n",
    "    Optimize the session on a batch of images and labels\n",
    "    : session: Current TensorFlow session\n",
    "    : optimizer: TensorFlow optimizer function\n",
    "    : keep_probability: keep probability\n",
    "    : feature_batch: Batch of Numpy image data\n",
    "    : label_batch: Batch of Numpy label data\n",
    "    \"\"\"\n",
    "    # TODO: Implement Function\n",
    "    session.run(optimizer, feed_dict={x: feature_batch, y: label_batch, keep_prob: keep_probability})\n",
    "\n",
    "\n",
    "\n",
    "\"\"\"\n",
    "DON'T MODIFY ANYTHING IN THIS CELL THAT IS BELOW THIS LINE\n",
    "\"\"\"\n",
    "tests.test_train_nn(train_neural_network)"
   ]
  },
  {
   "cell_type": "markdown",
   "metadata": {},
   "source": [
    "### Show Stats\n",
    "Implement the function `print_stats` to print loss and validation accuracy.  Use the global variables `valid_features` and `valid_labels` to calculate validation accuracy.  Use a keep probability of `1.0` to calculate the loss and validation accuracy."
   ]
  },
  {
   "cell_type": "code",
   "execution_count": 15,
   "metadata": {},
   "outputs": [],
   "source": [
    "def print_stats(session, feature_batch, label_batch, cost, accuracy):\n",
    "    \"\"\"\n",
    "    Print information about loss and validation accuracy\n",
    "    : session: Current TensorFlow session\n",
    "    : feature_batch: Batch of Numpy image data\n",
    "    : label_batch: Batch of Numpy label data\n",
    "    : cost: TensorFlow cost function\n",
    "    : accuracy: TensorFlow accuracy function\n",
    "    \"\"\"\n",
    "    # TODO: Implement Function\n",
    "    \n",
    "    loss = session.run(cost, feed_dict={x: feature_batch, y: label_batch, keep_prob: 1.0})\n",
    "    \n",
    "    validation_acc = session.run(accuracy, feed_dict={x: valid_features, y: valid_labels, keep_prob: 1.0})\n",
    "    \n",
    "    print('Loss={0} Accuracy={1}'.format(loss, validation_acc))"
   ]
  },
  {
   "cell_type": "markdown",
   "metadata": {},
   "source": [
    "### Hyperparameters\n",
    "Tune the following parameters:\n",
    "* Set `epochs` to the number of iterations until the network stops learning or start overfitting\n",
    "* Set `batch_size` to the highest number that your machine has memory for.  Most people set them to common sizes of memory:\n",
    " * 64\n",
    " * 128\n",
    " * 256\n",
    " * ...\n",
    "* Set `keep_probability` to the probability of keeping a node using dropout"
   ]
  },
  {
   "cell_type": "code",
   "execution_count": 16,
   "metadata": {},
   "outputs": [],
   "source": [
    "# TODO: Tune Parameters\n",
    "epochs = 30\n",
    "batch_size = 1028\n",
    "keep_probability = .72"
   ]
  },
  {
   "cell_type": "markdown",
   "metadata": {},
   "source": [
    "### Train on a Single CIFAR-10 Batch\n",
    "Instead of training the neural network on all the CIFAR-10 batches of data, let's use a single batch. This should save time while you iterate on the model to get a better accuracy.  Once the final validation accuracy is 50% or greater, run the model on all the data in the next section."
   ]
  },
  {
   "cell_type": "code",
   "execution_count": 17,
   "metadata": {},
   "outputs": [
    {
     "name": "stdout",
     "output_type": "stream",
     "text": [
      "Checking the Training on a Single Batch...\n",
      "Epoch  1, CIFAR-10 Batch 1:  Loss=2.4173178672790527 Accuracy=0.14459998905658722\n",
      "Epoch  2, CIFAR-10 Batch 1:  Loss=2.1873745918273926 Accuracy=0.21279999613761902\n",
      "Epoch  3, CIFAR-10 Batch 1:  Loss=2.0752763748168945 Accuracy=0.28859996795654297\n",
      "Epoch  4, CIFAR-10 Batch 1:  Loss=1.9275026321411133 Accuracy=0.3325999677181244\n",
      "Epoch  5, CIFAR-10 Batch 1:  Loss=1.792895793914795 Accuracy=0.3699999451637268\n",
      "Epoch  6, CIFAR-10 Batch 1:  Loss=1.6897649765014648 Accuracy=0.3895999789237976\n",
      "Epoch  7, CIFAR-10 Batch 1:  Loss=1.6080129146575928 Accuracy=0.4039999842643738\n",
      "Epoch  8, CIFAR-10 Batch 1:  Loss=1.536634922027588 Accuracy=0.42419999837875366\n",
      "Epoch  9, CIFAR-10 Batch 1:  Loss=1.465927004814148 Accuracy=0.4349999725818634\n",
      "Epoch 10, CIFAR-10 Batch 1:  Loss=1.4053906202316284 Accuracy=0.44419997930526733\n",
      "Epoch 11, CIFAR-10 Batch 1:  Loss=1.3557907342910767 Accuracy=0.45719996094703674\n",
      "Epoch 12, CIFAR-10 Batch 1:  Loss=1.2950087785720825 Accuracy=0.46140000224113464\n",
      "Epoch 13, CIFAR-10 Batch 1:  Loss=1.2489583492279053 Accuracy=0.4739999771118164\n",
      "Epoch 14, CIFAR-10 Batch 1:  Loss=1.1907025575637817 Accuracy=0.47019997239112854\n",
      "Epoch 15, CIFAR-10 Batch 1:  Loss=1.153329610824585 Accuracy=0.4833999574184418\n",
      "Epoch 16, CIFAR-10 Batch 1:  Loss=1.1058554649353027 Accuracy=0.4907999336719513\n",
      "Epoch 17, CIFAR-10 Batch 1:  Loss=1.0732629299163818 Accuracy=0.49059996008872986\n",
      "Epoch 18, CIFAR-10 Batch 1:  Loss=1.0441735982894897 Accuracy=0.4957999587059021\n",
      "Epoch 19, CIFAR-10 Batch 1:  Loss=0.9842525720596313 Accuracy=0.5007999539375305\n",
      "Epoch 20, CIFAR-10 Batch 1:  Loss=0.9500626921653748 Accuracy=0.506399929523468\n",
      "Epoch 21, CIFAR-10 Batch 1:  Loss=0.9184771180152893 Accuracy=0.5097999572753906\n",
      "Epoch 22, CIFAR-10 Batch 1:  Loss=0.8804545402526855 Accuracy=0.5067999958992004\n",
      "Epoch 23, CIFAR-10 Batch 1:  Loss=0.8498324155807495 Accuracy=0.501800000667572\n",
      "Epoch 24, CIFAR-10 Batch 1:  Loss=0.8015154600143433 Accuracy=0.5153999328613281\n",
      "Epoch 25, CIFAR-10 Batch 1:  Loss=0.7567728161811829 Accuracy=0.5221999287605286\n",
      "Epoch 26, CIFAR-10 Batch 1:  Loss=0.7283453941345215 Accuracy=0.5259999632835388\n",
      "Epoch 27, CIFAR-10 Batch 1:  Loss=0.6960999965667725 Accuracy=0.5189999341964722\n",
      "Epoch 28, CIFAR-10 Batch 1:  Loss=0.6532192230224609 Accuracy=0.5285999178886414\n",
      "Epoch 29, CIFAR-10 Batch 1:  Loss=0.6171159744262695 Accuracy=0.5255999565124512\n",
      "Epoch 30, CIFAR-10 Batch 1:  Loss=0.5846997499465942 Accuracy=0.5249999761581421\n"
     ]
    }
   ],
   "source": [
    "\"\"\"\n",
    "DON'T MODIFY ANYTHING IN THIS CELL\n",
    "\"\"\"\n",
    "print('Checking the Training on a Single Batch...')\n",
    "with tf.Session() as sess:\n",
    "    # Initializing the variables\n",
    "    sess.run(tf.global_variables_initializer())\n",
    "    \n",
    "    # Training cycle\n",
    "    for epoch in range(epochs):\n",
    "        batch_i = 1\n",
    "        for batch_features, batch_labels in helper.load_preprocess_training_batch(batch_i, batch_size):\n",
    "            train_neural_network(sess, optimizer, keep_probability, batch_features, batch_labels)\n",
    "        print('Epoch {:>2}, CIFAR-10 Batch {}:  '.format(epoch + 1, batch_i), end='')\n",
    "        print_stats(sess, batch_features, batch_labels, cost, accuracy)"
   ]
  },
  {
   "cell_type": "markdown",
   "metadata": {},
   "source": [
    "### Fully Train the Model\n",
    "Now that you got a good accuracy with a single CIFAR-10 batch, try it with all five batches."
   ]
  },
  {
   "cell_type": "code",
   "execution_count": 18,
   "metadata": {},
   "outputs": [
    {
     "name": "stdout",
     "output_type": "stream",
     "text": [
      "Training...\n",
      "Epoch  1, CIFAR-10 Batch 1:  Loss=2.225341796875 Accuracy=0.15839999914169312\n",
      "Epoch  1, CIFAR-10 Batch 2:  Loss=2.20042085647583 Accuracy=0.23119999468326569\n",
      "Epoch  1, CIFAR-10 Batch 3:  Loss=2.1186580657958984 Accuracy=0.284199982881546\n",
      "Epoch  1, CIFAR-10 Batch 4:  Loss=1.9421499967575073 Accuracy=0.32079997658729553\n",
      "Epoch  1, CIFAR-10 Batch 5:  Loss=1.8177911043167114 Accuracy=0.3338000178337097\n",
      "Epoch  2, CIFAR-10 Batch 1:  Loss=1.7509548664093018 Accuracy=0.3693999946117401\n",
      "Epoch  2, CIFAR-10 Batch 2:  Loss=1.7195584774017334 Accuracy=0.3866000175476074\n",
      "Epoch  2, CIFAR-10 Batch 3:  Loss=1.623888373374939 Accuracy=0.39660000801086426\n",
      "Epoch  2, CIFAR-10 Batch 4:  Loss=1.5649123191833496 Accuracy=0.4209999442100525\n",
      "Epoch  2, CIFAR-10 Batch 5:  Loss=1.6111736297607422 Accuracy=0.4050000011920929\n",
      "Epoch  3, CIFAR-10 Batch 1:  Loss=1.5679190158843994 Accuracy=0.417199969291687\n",
      "Epoch  3, CIFAR-10 Batch 2:  Loss=1.5559673309326172 Accuracy=0.4375999867916107\n",
      "Epoch  3, CIFAR-10 Batch 3:  Loss=1.4792230129241943 Accuracy=0.439799964427948\n",
      "Epoch  3, CIFAR-10 Batch 4:  Loss=1.4348973035812378 Accuracy=0.4578000009059906\n",
      "Epoch  3, CIFAR-10 Batch 5:  Loss=1.4888336658477783 Accuracy=0.4569999575614929\n",
      "Epoch  4, CIFAR-10 Batch 1:  Loss=1.4478771686553955 Accuracy=0.4580000042915344\n",
      "Epoch  4, CIFAR-10 Batch 2:  Loss=1.4384955167770386 Accuracy=0.4755999743938446\n",
      "Epoch  4, CIFAR-10 Batch 3:  Loss=1.3798658847808838 Accuracy=0.4761999845504761\n",
      "Epoch  4, CIFAR-10 Batch 4:  Loss=1.365126132965088 Accuracy=0.47979992628097534\n",
      "Epoch  4, CIFAR-10 Batch 5:  Loss=1.4087326526641846 Accuracy=0.4843999445438385\n",
      "Epoch  5, CIFAR-10 Batch 1:  Loss=1.370028018951416 Accuracy=0.4821999669075012\n",
      "Epoch  5, CIFAR-10 Batch 2:  Loss=1.3713185787200928 Accuracy=0.4957999885082245\n",
      "Epoch  5, CIFAR-10 Batch 3:  Loss=1.3116213083267212 Accuracy=0.4979999363422394\n",
      "Epoch  5, CIFAR-10 Batch 4:  Loss=1.2980371713638306 Accuracy=0.4973999857902527\n",
      "Epoch  5, CIFAR-10 Batch 5:  Loss=1.3382251262664795 Accuracy=0.5033999681472778\n",
      "Epoch  6, CIFAR-10 Batch 1:  Loss=1.2772648334503174 Accuracy=0.5085999369621277\n",
      "Epoch  6, CIFAR-10 Batch 2:  Loss=1.3127180337905884 Accuracy=0.5105999708175659\n",
      "Epoch  6, CIFAR-10 Batch 3:  Loss=1.2463408708572388 Accuracy=0.5135999321937561\n",
      "Epoch  6, CIFAR-10 Batch 4:  Loss=1.2295362949371338 Accuracy=0.5155999660491943\n",
      "Epoch  6, CIFAR-10 Batch 5:  Loss=1.261702060699463 Accuracy=0.5257999300956726\n",
      "Epoch  7, CIFAR-10 Batch 1:  Loss=1.2294931411743164 Accuracy=0.5175999999046326\n",
      "Epoch  7, CIFAR-10 Batch 2:  Loss=1.2593872547149658 Accuracy=0.5260000228881836\n",
      "Epoch  7, CIFAR-10 Batch 3:  Loss=1.2040585279464722 Accuracy=0.5235999822616577\n",
      "Epoch  7, CIFAR-10 Batch 4:  Loss=1.17641282081604 Accuracy=0.5327998995780945\n",
      "Epoch  7, CIFAR-10 Batch 5:  Loss=1.2104333639144897 Accuracy=0.5387999415397644\n",
      "Epoch  8, CIFAR-10 Batch 1:  Loss=1.171971082687378 Accuracy=0.5297999382019043\n",
      "Epoch  8, CIFAR-10 Batch 2:  Loss=1.2117303609848022 Accuracy=0.5383999347686768\n",
      "Epoch  8, CIFAR-10 Batch 3:  Loss=1.1525263786315918 Accuracy=0.5321999192237854\n",
      "Epoch  8, CIFAR-10 Batch 4:  Loss=1.1220202445983887 Accuracy=0.5409998893737793\n",
      "Epoch  8, CIFAR-10 Batch 5:  Loss=1.1512718200683594 Accuracy=0.5455998778343201\n",
      "Epoch  9, CIFAR-10 Batch 1:  Loss=1.1222734451293945 Accuracy=0.5363999605178833\n",
      "Epoch  9, CIFAR-10 Batch 2:  Loss=1.1553208827972412 Accuracy=0.5491998791694641\n",
      "Epoch  9, CIFAR-10 Batch 3:  Loss=1.0958263874053955 Accuracy=0.5417999029159546\n",
      "Epoch  9, CIFAR-10 Batch 4:  Loss=1.0825554132461548 Accuracy=0.547999918460846\n",
      "Epoch  9, CIFAR-10 Batch 5:  Loss=1.0963997840881348 Accuracy=0.5543999075889587\n",
      "Epoch 10, CIFAR-10 Batch 1:  Loss=1.0738638639450073 Accuracy=0.5469999313354492\n",
      "Epoch 10, CIFAR-10 Batch 2:  Loss=1.1118385791778564 Accuracy=0.556399941444397\n",
      "Epoch 10, CIFAR-10 Batch 3:  Loss=1.0548731088638306 Accuracy=0.556399941444397\n",
      "Epoch 10, CIFAR-10 Batch 4:  Loss=1.0204514265060425 Accuracy=0.5549999475479126\n",
      "Epoch 10, CIFAR-10 Batch 5:  Loss=1.0486781597137451 Accuracy=0.5529999136924744\n",
      "Epoch 11, CIFAR-10 Batch 1:  Loss=1.0112156867980957 Accuracy=0.5653999447822571\n",
      "Epoch 11, CIFAR-10 Batch 2:  Loss=1.044942021369934 Accuracy=0.5649999380111694\n",
      "Epoch 11, CIFAR-10 Batch 3:  Loss=1.0063908100128174 Accuracy=0.559999942779541\n",
      "Epoch 11, CIFAR-10 Batch 4:  Loss=0.9790167808532715 Accuracy=0.5619999766349792\n",
      "Epoch 11, CIFAR-10 Batch 5:  Loss=1.0020642280578613 Accuracy=0.5659999847412109\n",
      "Epoch 12, CIFAR-10 Batch 1:  Loss=0.9797412157058716 Accuracy=0.5715999007225037\n",
      "Epoch 12, CIFAR-10 Batch 2:  Loss=1.0063281059265137 Accuracy=0.5745999217033386\n",
      "Epoch 12, CIFAR-10 Batch 3:  Loss=0.9563132524490356 Accuracy=0.5677999258041382\n",
      "Epoch 12, CIFAR-10 Batch 4:  Loss=0.9263229370117188 Accuracy=0.5681999325752258\n",
      "Epoch 12, CIFAR-10 Batch 5:  Loss=0.9498196244239807 Accuracy=0.5733999013900757\n",
      "Epoch 13, CIFAR-10 Batch 1:  Loss=0.9304629564285278 Accuracy=0.5815999507904053\n",
      "Epoch 13, CIFAR-10 Batch 2:  Loss=0.9580633044242859 Accuracy=0.5851998925209045\n",
      "Epoch 13, CIFAR-10 Batch 3:  Loss=0.9164166450500488 Accuracy=0.5787999033927917\n",
      "Epoch 13, CIFAR-10 Batch 4:  Loss=0.8988291621208191 Accuracy=0.5703999400138855\n",
      "Epoch 13, CIFAR-10 Batch 5:  Loss=0.9087322354316711 Accuracy=0.5767999291419983\n",
      "Epoch 14, CIFAR-10 Batch 1:  Loss=0.903247594833374 Accuracy=0.5855998992919922\n",
      "Epoch 14, CIFAR-10 Batch 2:  Loss=0.9245483875274658 Accuracy=0.5809999108314514\n",
      "Epoch 14, CIFAR-10 Batch 3:  Loss=0.8761303424835205 Accuracy=0.584399938583374\n",
      "Epoch 14, CIFAR-10 Batch 4:  Loss=0.8523322343826294 Accuracy=0.5747998952865601\n",
      "Epoch 14, CIFAR-10 Batch 5:  Loss=0.8676130771636963 Accuracy=0.5885999202728271\n",
      "Epoch 15, CIFAR-10 Batch 1:  Loss=0.8575704097747803 Accuracy=0.5907999277114868\n",
      "Epoch 15, CIFAR-10 Batch 2:  Loss=0.8851296305656433 Accuracy=0.5837999582290649\n",
      "Epoch 15, CIFAR-10 Batch 3:  Loss=0.8426631689071655 Accuracy=0.5857998728752136\n",
      "Epoch 15, CIFAR-10 Batch 4:  Loss=0.8129028677940369 Accuracy=0.5831999182701111\n",
      "Epoch 15, CIFAR-10 Batch 5:  Loss=0.8361769914627075 Accuracy=0.5849999189376831\n",
      "Epoch 16, CIFAR-10 Batch 1:  Loss=0.8185847401618958 Accuracy=0.5925998687744141\n",
      "Epoch 16, CIFAR-10 Batch 2:  Loss=0.8430945873260498 Accuracy=0.5883999466896057\n",
      "Epoch 16, CIFAR-10 Batch 3:  Loss=0.8190248608589172 Accuracy=0.5867999196052551\n",
      "Epoch 16, CIFAR-10 Batch 4:  Loss=0.7728127241134644 Accuracy=0.5877999067306519\n",
      "Epoch 16, CIFAR-10 Batch 5:  Loss=0.790493369102478 Accuracy=0.590399980545044\n",
      "Epoch 17, CIFAR-10 Batch 1:  Loss=0.8033183813095093 Accuracy=0.5949999094009399\n",
      "Epoch 17, CIFAR-10 Batch 2:  Loss=0.8011548519134521 Accuracy=0.5947999358177185\n",
      "Epoch 17, CIFAR-10 Batch 3:  Loss=0.7875877618789673 Accuracy=0.5913999080657959\n",
      "Epoch 17, CIFAR-10 Batch 4:  Loss=0.7432690858840942 Accuracy=0.5953999161720276\n",
      "Epoch 17, CIFAR-10 Batch 5:  Loss=0.7732626795768738 Accuracy=0.590799868106842\n",
      "Epoch 18, CIFAR-10 Batch 1:  Loss=0.756263017654419 Accuracy=0.5997998714447021\n",
      "Epoch 18, CIFAR-10 Batch 2:  Loss=0.7718431949615479 Accuracy=0.6001999378204346\n",
      "Epoch 18, CIFAR-10 Batch 3:  Loss=0.7428805232048035 Accuracy=0.5891999006271362\n",
      "Epoch 18, CIFAR-10 Batch 4:  Loss=0.7141623497009277 Accuracy=0.6007999181747437\n",
      "Epoch 18, CIFAR-10 Batch 5:  Loss=0.7347644567489624 Accuracy=0.596799910068512\n",
      "Epoch 19, CIFAR-10 Batch 1:  Loss=0.7263004183769226 Accuracy=0.6037999391555786\n",
      "Epoch 19, CIFAR-10 Batch 2:  Loss=0.758492648601532 Accuracy=0.5943999290466309\n",
      "Epoch 19, CIFAR-10 Batch 3:  Loss=0.7250630855560303 Accuracy=0.5983998775482178\n",
      "Epoch 19, CIFAR-10 Batch 4:  Loss=0.6907262802124023 Accuracy=0.5995998382568359\n",
      "Epoch 19, CIFAR-10 Batch 5:  Loss=0.7088737487792969 Accuracy=0.6027998924255371\n",
      "Epoch 20, CIFAR-10 Batch 1:  Loss=0.7094823122024536 Accuracy=0.6019998788833618\n",
      "Epoch 20, CIFAR-10 Batch 2:  Loss=0.7277820110321045 Accuracy=0.5967999696731567\n",
      "Epoch 20, CIFAR-10 Batch 3:  Loss=0.6848819255828857 Accuracy=0.5987999439239502\n",
      "Epoch 20, CIFAR-10 Batch 4:  Loss=0.6616545915603638 Accuracy=0.6065999269485474\n",
      "Epoch 20, CIFAR-10 Batch 5:  Loss=0.6853705644607544 Accuracy=0.5987998843193054\n",
      "Epoch 21, CIFAR-10 Batch 1:  Loss=0.6759786605834961 Accuracy=0.5991999506950378\n",
      "Epoch 21, CIFAR-10 Batch 2:  Loss=0.6876806020736694 Accuracy=0.600399911403656\n"
     ]
    },
    {
     "name": "stdout",
     "output_type": "stream",
     "text": [
      "Epoch 21, CIFAR-10 Batch 3:  Loss=0.6275395750999451 Accuracy=0.6019999384880066\n",
      "Epoch 21, CIFAR-10 Batch 4:  Loss=0.6523109078407288 Accuracy=0.6049999594688416\n",
      "Epoch 21, CIFAR-10 Batch 5:  Loss=0.6488363742828369 Accuracy=0.6053999066352844\n",
      "Epoch 22, CIFAR-10 Batch 1:  Loss=0.6457761526107788 Accuracy=0.6057999134063721\n",
      "Epoch 22, CIFAR-10 Batch 2:  Loss=0.6498733758926392 Accuracy=0.6027998924255371\n",
      "Epoch 22, CIFAR-10 Batch 3:  Loss=0.6136214733123779 Accuracy=0.6027999520301819\n",
      "Epoch 22, CIFAR-10 Batch 4:  Loss=0.5980153679847717 Accuracy=0.6095999479293823\n",
      "Epoch 22, CIFAR-10 Batch 5:  Loss=0.6016583442687988 Accuracy=0.6073998808860779\n",
      "Epoch 23, CIFAR-10 Batch 1:  Loss=0.6078232526779175 Accuracy=0.6109998822212219\n",
      "Epoch 23, CIFAR-10 Batch 2:  Loss=0.5997901558876038 Accuracy=0.6117998361587524\n",
      "Epoch 23, CIFAR-10 Batch 3:  Loss=0.6190669536590576 Accuracy=0.5925998687744141\n",
      "Epoch 23, CIFAR-10 Batch 4:  Loss=0.5719403028488159 Accuracy=0.6131998896598816\n",
      "Epoch 23, CIFAR-10 Batch 5:  Loss=0.5733422636985779 Accuracy=0.6091998815536499\n",
      "Epoch 24, CIFAR-10 Batch 1:  Loss=0.592912495136261 Accuracy=0.615199863910675\n",
      "Epoch 24, CIFAR-10 Batch 2:  Loss=0.5796010494232178 Accuracy=0.6113998889923096\n",
      "Epoch 24, CIFAR-10 Batch 3:  Loss=0.567348837852478 Accuracy=0.6035999059677124\n",
      "Epoch 24, CIFAR-10 Batch 4:  Loss=0.5534448623657227 Accuracy=0.605199933052063\n",
      "Epoch 24, CIFAR-10 Batch 5:  Loss=0.5537430047988892 Accuracy=0.6037998795509338\n",
      "Epoch 25, CIFAR-10 Batch 1:  Loss=0.5656810402870178 Accuracy=0.6125998497009277\n",
      "Epoch 25, CIFAR-10 Batch 2:  Loss=0.5559371709823608 Accuracy=0.6139999628067017\n",
      "Epoch 25, CIFAR-10 Batch 3:  Loss=0.5617472529411316 Accuracy=0.5961999297142029\n",
      "Epoch 25, CIFAR-10 Batch 4:  Loss=0.5418258905410767 Accuracy=0.6033999919891357\n",
      "Epoch 25, CIFAR-10 Batch 5:  Loss=0.5458290576934814 Accuracy=0.6025999784469604\n",
      "Epoch 26, CIFAR-10 Batch 1:  Loss=0.5443069338798523 Accuracy=0.612799882888794\n",
      "Epoch 26, CIFAR-10 Batch 2:  Loss=0.5125960111618042 Accuracy=0.6157998442649841\n",
      "Epoch 26, CIFAR-10 Batch 3:  Loss=0.5319962501525879 Accuracy=0.5987998843193054\n",
      "Epoch 26, CIFAR-10 Batch 4:  Loss=0.535385251045227 Accuracy=0.6001998782157898\n",
      "Epoch 26, CIFAR-10 Batch 5:  Loss=0.5098885297775269 Accuracy=0.6067999005317688\n",
      "Epoch 27, CIFAR-10 Batch 1:  Loss=0.5266884565353394 Accuracy=0.6153998970985413\n",
      "Epoch 27, CIFAR-10 Batch 2:  Loss=0.5215201377868652 Accuracy=0.6081998944282532\n",
      "Epoch 27, CIFAR-10 Batch 3:  Loss=0.4906783699989319 Accuracy=0.6061999201774597\n",
      "Epoch 27, CIFAR-10 Batch 4:  Loss=0.5085699558258057 Accuracy=0.6005998849868774\n",
      "Epoch 27, CIFAR-10 Batch 5:  Loss=0.52303546667099 Accuracy=0.6017999649047852\n",
      "Epoch 28, CIFAR-10 Batch 1:  Loss=0.525078296661377 Accuracy=0.6147999167442322\n",
      "Epoch 28, CIFAR-10 Batch 2:  Loss=0.48602569103240967 Accuracy=0.6111998558044434\n",
      "Epoch 28, CIFAR-10 Batch 3:  Loss=0.4762234687805176 Accuracy=0.6153998970985413\n",
      "Epoch 28, CIFAR-10 Batch 4:  Loss=0.4576305150985718 Accuracy=0.6057999134063721\n",
      "Epoch 28, CIFAR-10 Batch 5:  Loss=0.5099496841430664 Accuracy=0.602199912071228\n",
      "Epoch 29, CIFAR-10 Batch 1:  Loss=0.514691948890686 Accuracy=0.6185998916625977\n",
      "Epoch 29, CIFAR-10 Batch 2:  Loss=0.44723397493362427 Accuracy=0.6157999038696289\n",
      "Epoch 29, CIFAR-10 Batch 3:  Loss=0.4394451081752777 Accuracy=0.6191998720169067\n",
      "Epoch 29, CIFAR-10 Batch 4:  Loss=0.44575315713882446 Accuracy=0.6153998970985413\n",
      "Epoch 29, CIFAR-10 Batch 5:  Loss=0.4945542812347412 Accuracy=0.5995998978614807\n",
      "Epoch 30, CIFAR-10 Batch 1:  Loss=0.47797518968582153 Accuracy=0.616399884223938\n",
      "Epoch 30, CIFAR-10 Batch 2:  Loss=0.42887938022613525 Accuracy=0.6217999458312988\n",
      "Epoch 30, CIFAR-10 Batch 3:  Loss=0.40486839413642883 Accuracy=0.6147999167442322\n",
      "Epoch 30, CIFAR-10 Batch 4:  Loss=0.4048466682434082 Accuracy=0.6151999235153198\n",
      "Epoch 30, CIFAR-10 Batch 5:  Loss=0.46484294533729553 Accuracy=0.6007998585700989\n"
     ]
    }
   ],
   "source": [
    "\"\"\"\n",
    "DON'T MODIFY ANYTHING IN THIS CELL\n",
    "\"\"\"\n",
    "save_model_path = './image_classification'\n",
    "\n",
    "print('Training...')\n",
    "with tf.Session() as sess:\n",
    "    # Initializing the variables\n",
    "    sess.run(tf.global_variables_initializer())\n",
    "    \n",
    "    # Training cycle\n",
    "    for epoch in range(epochs):\n",
    "        # Loop over all batches\n",
    "        n_batches = 5\n",
    "        for batch_i in range(1, n_batches + 1):\n",
    "            for batch_features, batch_labels in helper.load_preprocess_training_batch(batch_i, batch_size):\n",
    "                train_neural_network(sess, optimizer, keep_probability, batch_features, batch_labels)\n",
    "            print('Epoch {:>2}, CIFAR-10 Batch {}:  '.format(epoch + 1, batch_i), end='')\n",
    "            print_stats(sess, batch_features, batch_labels, cost, accuracy)\n",
    "            \n",
    "    # Save Model\n",
    "    saver = tf.train.Saver()\n",
    "    save_path = saver.save(sess, save_model_path)"
   ]
  },
  {
   "cell_type": "markdown",
   "metadata": {},
   "source": [
    "# Checkpoint\n",
    "The model has been saved to disk.\n",
    "## Test Model\n",
    "Test your model against the test dataset.  This will be your final accuracy. You should have an accuracy greater than 50%. If you don't, keep tweaking the model architecture and parameters."
   ]
  },
  {
   "cell_type": "code",
   "execution_count": 19,
   "metadata": {},
   "outputs": [
    {
     "name": "stdout",
     "output_type": "stream",
     "text": [
      "Testing Accuracy: 0.5975394546985626\n",
      "\n"
     ]
    },
    {
     "data": {
      "image/png": "[encoded data removed]",
      "text/plain": [
       "<matplotlib.figure.Figure at 0x7f876c3efdd8>"
      ]
     },
     "metadata": {
      "image/png": {
       "height": 319,
       "width": 355
      }
     },
     "output_type": "display_data"
    }
   ],
   "source": [
    "\"\"\"\n",
    "DON'T MODIFY ANYTHING IN THIS CELL\n",
    "\"\"\"\n",
    "%matplotlib inline\n",
    "%config InlineBackend.figure_format = 'retina'\n",
    "\n",
    "import tensorflow as tf\n",
    "import pickle\n",
    "import helper\n",
    "import random\n",
    "\n",
    "# Set batch size if not already set\n",
    "try:\n",
    "    if batch_size:\n",
    "        pass\n",
    "except NameError:\n",
    "    batch_size = 64\n",
    "\n",
    "save_model_path = './image_classification'\n",
    "n_samples = 4\n",
    "top_n_predictions = 3\n",
    "\n",
    "def test_model():\n",
    "    \"\"\"\n",
    "    Test the saved model against the test dataset\n",
    "    \"\"\"\n",
    "\n",
    "    test_features, test_labels = pickle.load(open('preprocess_test.p', mode='rb'))\n",
    "    loaded_graph = tf.Graph()\n",
    "\n",
    "    with tf.Session(graph=loaded_graph) as sess:\n",
    "        # Load model\n",
    "        loader = tf.train.import_meta_graph(save_model_path + '.meta')\n",
    "        loader.restore(sess, save_model_path)\n",
    "\n",
    "        # Get Tensors from loaded model\n",
    "        loaded_x = loaded_graph.get_tensor_by_name('x:0')\n",
    "        loaded_y = loaded_graph.get_tensor_by_name('y:0')\n",
    "        loaded_keep_prob = loaded_graph.get_tensor_by_name('keep_prob:0')\n",
    "        loaded_logits = loaded_graph.get_tensor_by_name('logits:0')\n",
    "        loaded_acc = loaded_graph.get_tensor_by_name('accuracy:0')\n",
    "        \n",
    "        # Get accuracy in batches for memory limitations\n",
    "        test_batch_acc_total = 0\n",
    "        test_batch_count = 0\n",
    "        \n",
    "        for test_feature_batch, test_label_batch in helper.batch_features_labels(test_features, test_labels, batch_size):\n",
    "            test_batch_acc_total += sess.run(\n",
    "                loaded_acc,\n",
    "                feed_dict={loaded_x: test_feature_batch, loaded_y: test_label_batch, loaded_keep_prob: 1.0})\n",
    "            test_batch_count += 1\n",
    "\n",
    "        print('Testing Accuracy: {}\\n'.format(test_batch_acc_total/test_batch_count))\n",
    "\n",
    "        # Print Random Samples\n",
    "        random_test_features, random_test_labels = tuple(zip(*random.sample(list(zip(test_features, test_labels)), n_samples)))\n",
    "        random_test_predictions = sess.run(\n",
    "            tf.nn.top_k(tf.nn.softmax(loaded_logits), top_n_predictions),\n",
    "            feed_dict={loaded_x: random_test_features, loaded_y: random_test_labels, loaded_keep_prob: 1.0})\n",
    "        helper.display_image_predictions(random_test_features, random_test_labels, random_test_predictions)\n",
    "\n",
    "\n",
    "test_model()"
   ]
  },
  {
   "cell_type": "markdown",
   "metadata": {},
   "source": [
    "## Why 50-80% Accuracy?\n",
    "You might be wondering why you can't get an accuracy any higher. First things first, 50% isn't bad for a simple CNN.  Pure guessing would get you 10% accuracy. However, you might notice people are getting scores [well above 80%](http://rodrigob.github.io/are_we_there_yet/build/classification_datasets_results.html#43494641522d3130).  That's because we haven't taught you all there is to know about neural networks. We still need to cover a few more techniques.\n",
    "## Submitting This Project\n",
    "When submitting this project, make sure to run all the cells before saving the notebook.  Save the notebook file as \"dlnd_image_classification.ipynb\" and save it as a HTML file under \"File\" -> \"Download as\".  Include the \"helper.py\" and \"problem_unittests.py\" files in your submission."
   ]
  }
 ],
 "metadata": {
  "kernelspec": {
   "display_name": "Python 3",
   "language": "python",
   "name": "python3"
  },
  "language_info": {
   "codemirror_mode": {
    "name": "ipython",
    "version": 3
   },
   "file_extension": ".py",
   "mimetype": "text/x-python",
   "name": "python",
   "nbconvert_exporter": "python",
   "pygments_lexer": "ipython3",
   "version": "3.5.2"
  }
 },
 "nbformat": 4,
 "nbformat_minor": 1
}
